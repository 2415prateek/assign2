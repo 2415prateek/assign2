{
 "cells": [
  {
   "cell_type": "code",
   "execution_count": 1,
   "id": "0f1d97a4-8785-4f19-b784-3fe7da429e14",
   "metadata": {},
   "outputs": [],
   "source": [
    "#Ans-1- we can  use a # symbol in comment in python"
   ]
  },
  {
   "cell_type": "code",
   "execution_count": 4,
   "id": "2797deac-7d13-472d-b09d-d074933acae8",
   "metadata": {},
   "outputs": [],
   "source": [
    "# there are two types of comment\n",
    "#1.-single line comment \n",
    "#2.-multi line comment "
   ]
  },
  {
   "cell_type": "code",
   "execution_count": 5,
   "id": "9eb0f6dd-b64b-494b-86f1-ccd873611191",
   "metadata": {},
   "outputs": [],
   "source": [
    "#Ans2=Variables are nothing else are english alphabetics characters \n",
    "#we can declare the  variables to by assign the values for exmpale "
   ]
  },
  {
   "cell_type": "code",
   "execution_count": 6,
   "id": "c73f46a5-2f8a-417a-8c95-4f6f8f83767f",
   "metadata": {},
   "outputs": [],
   "source": [
    "a=2"
   ]
  },
  {
   "cell_type": "code",
   "execution_count": 7,
   "id": "910f7a20-49a6-4b64-9964-387acc066f08",
   "metadata": {},
   "outputs": [
    {
     "data": {
      "text/plain": [
       "2"
      ]
     },
     "execution_count": 7,
     "metadata": {},
     "output_type": "execute_result"
    }
   ],
   "source": [
    "a"
   ]
  },
  {
   "cell_type": "code",
   "execution_count": 8,
   "id": "5700a9be-2b39-4fd1-b011-0de7cc5689ad",
   "metadata": {},
   "outputs": [],
   "source": [
    "b=245.45"
   ]
  },
  {
   "cell_type": "code",
   "execution_count": 9,
   "id": "15d422b7-444d-4db6-b19f-abe00604304a",
   "metadata": {},
   "outputs": [
    {
     "data": {
      "text/plain": [
       "245.45"
      ]
     },
     "execution_count": 9,
     "metadata": {},
     "output_type": "execute_result"
    }
   ],
   "source": [
    "b"
   ]
  },
  {
   "cell_type": "code",
   "execution_count": 10,
   "id": "76a645c3-fb31-4f23-a895-437a55c78b94",
   "metadata": {},
   "outputs": [],
   "source": [
    "c=True"
   ]
  },
  {
   "cell_type": "code",
   "execution_count": 11,
   "id": "eff56e53-f294-4857-8e9c-50ad92049b03",
   "metadata": {},
   "outputs": [
    {
     "data": {
      "text/plain": [
       "True"
      ]
     },
     "execution_count": 11,
     "metadata": {},
     "output_type": "execute_result"
    }
   ],
   "source": [
    "c"
   ]
  },
  {
   "cell_type": "code",
   "execution_count": 12,
   "id": "b46f5524-a66e-4420-aec0-73ed315a93d1",
   "metadata": {},
   "outputs": [],
   "source": [
    "# Ans3-Python supports different types like str(),int(),flot(), etc so we can directly convert a data type to another data type "
   ]
  },
  {
   "cell_type": "code",
   "execution_count": 13,
   "id": "2d492abf-2ec9-4d99-93f0-4d147c6a4027",
   "metadata": {},
   "outputs": [],
   "source": [
    "a=234522"
   ]
  },
  {
   "cell_type": "code",
   "execution_count": 14,
   "id": "cbf998f8-efe1-4d0d-91eb-ff3109a1bb4b",
   "metadata": {},
   "outputs": [
    {
     "data": {
      "text/plain": [
       "234522"
      ]
     },
     "execution_count": 14,
     "metadata": {},
     "output_type": "execute_result"
    }
   ],
   "source": [
    "a"
   ]
  },
  {
   "cell_type": "code",
   "execution_count": 15,
   "id": "3fa00b16-69b9-4ef1-bfbd-f85bdc1fc1e0",
   "metadata": {},
   "outputs": [
    {
     "data": {
      "text/plain": [
       "int"
      ]
     },
     "execution_count": 15,
     "metadata": {},
     "output_type": "execute_result"
    }
   ],
   "source": [
    "type(a)"
   ]
  },
  {
   "cell_type": "code",
   "execution_count": 20,
   "id": "f48b220e-877b-4c88-85ae-44b735ed9afc",
   "metadata": {},
   "outputs": [
    {
     "data": {
      "text/plain": [
       "'234522'"
      ]
     },
     "execution_count": 20,
     "metadata": {},
     "output_type": "execute_result"
    }
   ],
   "source": [
    "str(a)"
   ]
  },
  {
   "cell_type": "code",
   "execution_count": 23,
   "id": "feff3b99-8e20-4b8a-82e9-cc6dd61b6cb3",
   "metadata": {},
   "outputs": [
    {
     "data": {
      "text/plain": [
       "str"
      ]
     },
     "execution_count": 23,
     "metadata": {},
     "output_type": "execute_result"
    }
   ],
   "source": [
    "type('234522')"
   ]
  },
  {
   "cell_type": "code",
   "execution_count": 27,
   "id": "d6de4444-f709-469f-8c37-8909485e2a82",
   "metadata": {},
   "outputs": [],
   "source": [
    "#Ans4=we can simple write a line in command line by assign to someone and run by the  symbol command (control+enter&shift+enter)"
   ]
  },
  {
   "cell_type": "code",
   "execution_count": 29,
   "id": "3782148a-da93-4f3e-86f2-8baff7919a28",
   "metadata": {},
   "outputs": [],
   "source": [
    " my= 'helllo this'"
   ]
  },
  {
   "cell_type": "code",
   "execution_count": 30,
   "id": "22eecfea-955a-4ab7-a3e4-959396583865",
   "metadata": {},
   "outputs": [],
   "source": [
    "#Ans5"
   ]
  },
  {
   "cell_type": "code",
   "execution_count": 31,
   "id": "59296cde-d895-46ae-80ca-bf1d0cd90cfa",
   "metadata": {},
   "outputs": [],
   "source": [
    "my_list=[1,2,3,4,5,]"
   ]
  },
  {
   "cell_type": "code",
   "execution_count": 36,
   "id": "025b1612-c026-49b8-8e9d-6e2e9bff9981",
   "metadata": {},
   "outputs": [
    {
     "data": {
      "text/plain": [
       "[2, 3]"
      ]
     },
     "execution_count": 36,
     "metadata": {},
     "output_type": "execute_result"
    }
   ],
   "source": [
    "my_list[1:3:]"
   ]
  },
  {
   "cell_type": "code",
   "execution_count": 37,
   "id": "180a5737-5a2f-4f1c-88b3-3944ca95a3d6",
   "metadata": {},
   "outputs": [],
   "source": [
    "#Ans6"
   ]
  },
  {
   "cell_type": "code",
   "execution_count": 38,
   "id": "06e37aef-10e7-48b5-9ff2-e6fbc045630f",
   "metadata": {},
   "outputs": [],
   "source": [
    "#complex no is a combination of real no and imaginary no in the from of a+ib "
   ]
  },
  {
   "cell_type": "code",
   "execution_count": 39,
   "id": "06c8e111-c0f6-4e5e-a39a-651433b2708e",
   "metadata": {},
   "outputs": [],
   "source": [
    "# we can represent the complex no in python in j"
   ]
  },
  {
   "cell_type": "code",
   "execution_count": 40,
   "id": "b933d292-41a4-4a44-bd00-58cedafed0ce",
   "metadata": {},
   "outputs": [],
   "source": [
    "a=3+4j"
   ]
  },
  {
   "cell_type": "code",
   "execution_count": 41,
   "id": "654e3fa6-4ec6-4263-ba94-508b47709324",
   "metadata": {},
   "outputs": [
    {
     "data": {
      "text/plain": [
       "complex"
      ]
     },
     "execution_count": 41,
     "metadata": {},
     "output_type": "execute_result"
    }
   ],
   "source": [
    "type(a)"
   ]
  },
  {
   "cell_type": "code",
   "execution_count": 42,
   "id": "37462f80-04bf-4e10-b440-58ba6dbb82ea",
   "metadata": {},
   "outputs": [],
   "source": [
    "#Ans7"
   ]
  },
  {
   "cell_type": "code",
   "execution_count": 47,
   "id": "f7feb78c-27c8-4503-bf26-9e157fc95bba",
   "metadata": {},
   "outputs": [],
   "source": [
    "d6={\"name\" :25}"
   ]
  },
  {
   "cell_type": "code",
   "execution_count": 48,
   "id": "c320fa52-1461-4b0c-99c8-6f5f965070ee",
   "metadata": {},
   "outputs": [],
   "source": [
    "#Ans=8"
   ]
  },
  {
   "cell_type": "code",
   "execution_count": 50,
   "id": "e83f5438-e428-4f37-ab1a-0488812414c4",
   "metadata": {},
   "outputs": [],
   "source": [
    "d4={\"price\":9.99}"
   ]
  },
  {
   "cell_type": "code",
   "execution_count": 51,
   "id": "246aafa8-ad3e-4a7f-9cd0-2ade486eb532",
   "metadata": {},
   "outputs": [
    {
     "data": {
      "text/plain": [
       "dict"
      ]
     },
     "execution_count": 51,
     "metadata": {},
     "output_type": "execute_result"
    }
   ],
   "source": [
    "type(d4)"
   ]
  },
  {
   "cell_type": "code",
   "execution_count": 52,
   "id": "f59ea767-3d35-43e2-8478-5c2a9c9d8036",
   "metadata": {},
   "outputs": [],
   "source": [
    "#ans9"
   ]
  },
  {
   "cell_type": "code",
   "execution_count": 55,
   "id": "9b9edf93-ee66-4f8a-a452-5f05451184a9",
   "metadata": {},
   "outputs": [],
   "source": [
    "d2={\"name\":\"prateek gupta\"}"
   ]
  },
  {
   "cell_type": "code",
   "execution_count": 56,
   "id": "803775b6-6c76-4d4a-98f0-7a10f0e70788",
   "metadata": {},
   "outputs": [
    {
     "data": {
      "text/plain": [
       "dict_values(['prateek gupta'])"
      ]
     },
     "execution_count": 56,
     "metadata": {},
     "output_type": "execute_result"
    }
   ],
   "source": [
    "d2.values()"
   ]
  },
  {
   "cell_type": "code",
   "execution_count": 57,
   "id": "3e496bff-952b-4709-92f7-75bc4b21ba68",
   "metadata": {},
   "outputs": [],
   "source": [
    "#ans10"
   ]
  },
  {
   "cell_type": "code",
   "execution_count": 58,
   "id": "36863381-b038-4b38-b206-851a84cfc88b",
   "metadata": {},
   "outputs": [],
   "source": [
    "d=\"hello ,word\""
   ]
  },
  {
   "cell_type": "code",
   "execution_count": 66,
   "id": "e69162d6-98d3-42db-90dc-04a77a3253d5",
   "metadata": {},
   "outputs": [
    {
     "data": {
      "text/plain": [
       "'word'"
      ]
     },
     "execution_count": 66,
     "metadata": {},
     "output_type": "execute_result"
    }
   ],
   "source": [
    "d[7:11]"
   ]
  },
  {
   "cell_type": "code",
   "execution_count": 67,
   "id": "be5fef75-376a-47b3-9bb2-8c253d9a8b83",
   "metadata": {},
   "outputs": [],
   "source": [
    "#ans11"
   ]
  },
  {
   "cell_type": "code",
   "execution_count": 82,
   "id": "77925f9e-ee16-4785-a5d6-891bee3ea309",
   "metadata": {},
   "outputs": [
    {
     "name": "stdout",
     "output_type": "stream",
     "text": [
      "whether it is a students\n"
     ]
    }
   ],
   "source": [
    "is_student=True\n",
    "if is_student==True :\n",
    "    print(\"whether it is a students\")\n",
    "else :\n",
    "    print(\"whether it is not a students\")"
   ]
  },
  {
   "cell_type": "code",
   "execution_count": null,
   "id": "7cdb967a-fd38-4c7e-9e35-6335d9b0df6a",
   "metadata": {},
   "outputs": [],
   "source": []
  }
 ],
 "metadata": {
  "kernelspec": {
   "display_name": "Python 3 (ipykernel)",
   "language": "python",
   "name": "python3"
  },
  "language_info": {
   "codemirror_mode": {
    "name": "ipython",
    "version": 3
   },
   "file_extension": ".py",
   "mimetype": "text/x-python",
   "name": "python",
   "nbconvert_exporter": "python",
   "pygments_lexer": "ipython3",
   "version": "3.10.6"
  }
 },
 "nbformat": 4,
 "nbformat_minor": 5
}
